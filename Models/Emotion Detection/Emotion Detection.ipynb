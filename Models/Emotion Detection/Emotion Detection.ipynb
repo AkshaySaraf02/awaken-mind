{
 "cells": [
  {
   "cell_type": "code",
   "execution_count": 64,
   "metadata": {},
   "outputs": [],
   "source": [
    "import pandas as pd\n",
    "import numpy as np\n",
    "\n",
    "import matplotlib.pyplot as plt\n",
    "import seaborn as sns\n",
    "\n",
    "from sklearn.model_selection import train_test_split, GridSearchCV\n",
    "from sklearn.metrics import classification_report\n",
    "from sklearn.feature_extraction.text import CountVectorizer\n",
    "from sklearn.naive_bayes import MultinomialNB\n",
    "\n",
    "from nltk.stem import WordNetLemmatizer\n",
    "from nltk.corpus import stopwords\n",
    "from nltk.tokenize import word_tokenize"
   ]
  },
  {
   "cell_type": "code",
   "execution_count": 65,
   "metadata": {},
   "outputs": [],
   "source": [
    "df1 = pd.read_csv(\"data/go_emotion_1.csv\")\n",
    "df2 = pd.read_csv(\"data/go_emotion_2.csv\")\n",
    "emotions = pd.read_csv(\"data/emotion_mappings.csv\")\n",
    "\n",
    "df = pd.concat([df1, df2], axis=0, ignore_index=True)\n",
    "\n",
    "df = df[df['emotion_id'].str.contains(\",\") != True][[\"text\", \"emotion_id\"]]\n",
    "df[\"emotion_id\"] =  df['emotion_id'].astype(\"int\")\n",
    "df = df[df[\"text\"].str.len() > 10]\n"
   ]
  },
  {
   "cell_type": "code",
   "execution_count": 66,
   "metadata": {},
   "outputs": [],
   "source": [
    "# Mapping the emotions to their ids\n",
    "\n",
    "df = pd.merge(df, emotions, how=\"left\", left_on=\"emotion_id\", right_on=\"id\").drop([\"emotion_id\", \"id\"], axis=1)"
   ]
  },
  {
   "cell_type": "code",
   "execution_count": 67,
   "metadata": {},
   "outputs": [
    {
     "name": "stdout",
     "output_type": "stream",
     "text": [
      "Min:  1\n",
      "Average:  12.753\n",
      "Max:  32\n"
     ]
    },
    {
     "data": {
      "image/png": "[encoded data removed]",
      "text/plain": [
       "<Figure size 500x200 with 1 Axes>"
      ]
     },
     "metadata": {},
     "output_type": "display_data"
    }
   ],
   "source": [
    "def text_length_distribution(df):\n",
    "    sentence_length = []\n",
    "\n",
    "    for text in df[df.columns[0]]:\n",
    "        sentence_length.append(len(text.split()))\n",
    "    \n",
    "    print(\"Min: \", min(sentence_length))\n",
    "    print(\"Average: \", round(sum(sentence_length) / len(sentence_length), 3))\n",
    "    print(\"Max: \", max(sentence_length))\n",
    "    \n",
    "    plt.figure(figsize=(5, 2))\n",
    "    sns.histplot(sentence_length, bins=30)\n",
    "\n",
    "text_length_distribution(df)"
   ]
  },
  {
   "cell_type": "code",
   "execution_count": 68,
   "metadata": {},
   "outputs": [
    {
     "data": {
      "text/plain": [
       "neutral           14151\n",
       "admiration         3017\n",
       "approval           2088\n",
       "gratitude          2071\n",
       "amusement          1814\n",
       "annoyance          1639\n",
       "disapproval        1587\n",
       "love               1557\n",
       "curiosity          1553\n",
       "anger              1138\n",
       "optimism            962\n",
       "confusion           953\n",
       "joy                 938\n",
       "sadness             915\n",
       "surprise            798\n",
       "disappointment      792\n",
       "caring              726\n",
       "realization         674\n",
       "disgust             568\n",
       "excitement          556\n",
       "fear                494\n",
       "desire              444\n",
       "remorse             395\n",
       "embarrassment       225\n",
       "relief               95\n",
       "nervousness          95\n",
       "pride                57\n",
       "grief                41\n",
       "Name: emotions, dtype: int64"
      ]
     },
     "execution_count": 68,
     "metadata": {},
     "output_type": "execute_result"
    }
   ],
   "source": [
    "df[\"emotions\"].value_counts()"
   ]
  },
  {
   "cell_type": "code",
   "execution_count": 69,
   "metadata": {},
   "outputs": [
    {
     "data": {
      "text/plain": [
       "array(['anger', 'fear', 'joy', 'sadness', 'realization'], dtype=object)"
      ]
     },
     "execution_count": 69,
     "metadata": {},
     "output_type": "execute_result"
    }
   ],
   "source": [
    "# Filtering the data which will not be usefull in the production scenario.\n",
    "\n",
    "required_data = ['anger','fear','realization','sadness','joy']\n",
    "no_usecase_emotions = list(set(df[\"emotions\"].unique()).difference(required_data))\n",
    "\n",
    "for emotion in no_usecase_emotions:\n",
    "    df = df[df[\"emotions\"] != emotion]\n",
    "\n",
    "\n",
    "df[\"emotions\"].unique()"
   ]
  },
  {
   "cell_type": "code",
   "execution_count": 70,
   "metadata": {},
   "outputs": [],
   "source": [
    "anger = df[df[\"emotions\"] == \"anger\"].sample(700)\n",
    "df = df[df[\"emotions\"] != \"anger\"]\n",
    "\n",
    "df = pd.concat([df, anger], axis=0, ignore_index=True)"
   ]
  },
  {
   "cell_type": "code",
   "execution_count": 71,
   "metadata": {},
   "outputs": [],
   "source": [
    "stopWords = set(stopwords.words(\"english\"))\n",
    "lemmatizer = WordNetLemmatizer()\n",
    "\n",
    "def nlpTextProcessor(sentence):\n",
    "    tokenizedSent = word_tokenize(sentence)\n",
    "    removedStopwords = [word for word in tokenizedSent if word not in stopWords]\n",
    "    finalOutput = []\n",
    "    tempOutput = []\n",
    "    for word in removedStopwords:\n",
    "        if word not in set(\"``{['?/]}().,:-@\") and word not in [\"''\"]:\n",
    "            tempOutput.append(lemmatizer.lemmatize(word))\n",
    "    finalOutput = \" \".join(tempOutput)\n",
    "    return finalOutput.lower()\n",
    "\n",
    "\n",
    "df[\"text\"] = df[\"text\"].apply(nlpTextProcessor)"
   ]
  },
  {
   "cell_type": "code",
   "execution_count": 72,
   "metadata": {},
   "outputs": [],
   "source": [
    "X = df[\"text\"]\n",
    "y = df[\"emotions\"]\n",
    "\n",
    "X_train, X_test, y_train, y_test = train_test_split(X, y, test_size=0.2, stratify=y)\n",
    "count_vector = CountVectorizer(ngram_range=(1, 3))\n",
    "\n",
    "X_train = count_vector.fit_transform(X_train)\n",
    "X_test = count_vector.transform(X_test)"
   ]
  },
  {
   "cell_type": "code",
   "execution_count": 73,
   "metadata": {},
   "outputs": [
    {
     "name": "stdout",
     "output_type": "stream",
     "text": [
      "              precision    recall  f1-score   support\n",
      "\n",
      "       anger       0.82      0.62      0.71       140\n",
      "        fear       0.73      0.58      0.64        99\n",
      "         joy       0.73      0.87      0.79       188\n",
      " realization       0.65      0.49      0.56       135\n",
      "     sadness       0.62      0.79      0.69       183\n",
      "\n",
      "    accuracy                           0.70       745\n",
      "   macro avg       0.71      0.67      0.68       745\n",
      "weighted avg       0.70      0.70      0.69       745\n",
      "\n"
     ]
    }
   ],
   "source": [
    "model = MultinomialNB(alpha=1, fit_prior=False)\n",
    "model.fit(X_train, y_train)\n",
    "\n",
    "nb_predictions = model.predict(X_test)\n",
    "print(classification_report(y_test, nb_predictions, zero_division=False))"
   ]
  },
  {
   "cell_type": "code",
   "execution_count": 74,
   "metadata": {},
   "outputs": [],
   "source": [
    "def real_world_testing(texts):\n",
    "    vectorized_texts = count_vector.transform(texts[1:])\n",
    "    correct_predications = 0\n",
    "    print(\"\\n\\n\")\n",
    "    for i, text in enumerate(vectorized_texts):\n",
    "        print(str(i+1)+\". \",texts[i+1])\n",
    "        predictions = model.predict(text)\n",
    "        print(\"----> Prediction: \", predictions[0], \"\\n\")\n",
    "        \n",
    "        if str(predictions[0]) == texts[0]:\n",
    "            correct_predications += 1\n",
    "\n",
    "    print(\"Accuracy: \", round((correct_predications/(len(texts)-1)) * 100,0), \"%\")"
   ]
  },
  {
   "cell_type": "code",
   "execution_count": 75,
   "metadata": {},
   "outputs": [
    {
     "name": "stdout",
     "output_type": "stream",
     "text": [
      "\n",
      "\n",
      "\n",
      "1.  I feel like I'm floating on air, so happy and excited!\n",
      "----> Prediction:  joy \n",
      "\n",
      "2.  Everything feels brighter; I can't stop smiling.\n",
      "----> Prediction:  anger \n",
      "\n",
      "3.  Lost in thoughts, feeling grateful for the smallest things.\n",
      "----> Prediction:  sadness \n",
      "\n",
      "4.  I can't make sense of anything; it's all a jumble in my head.\n",
      "----> Prediction:  realization \n",
      "\n",
      "5.  It's like a heavy weight on my chest; can't hold back the tears.\n",
      "----> Prediction:  joy \n",
      "\n",
      "6.  Something's bothering me, but I can't quite put my finger on it.\n",
      "----> Prediction:  sadness \n",
      "\n",
      "7.  Finally, a moment of peace; the world seems quieter now.\n",
      "----> Prediction:  joy \n",
      "\n",
      "8.  Unexpected kindness; my heart feels lighter, like a burden lifted.\n",
      "----> Prediction:  sadness \n",
      "\n",
      "9.  The tension's gone; relief floods over me, like a deep breath.\n",
      "----> Prediction:  joy \n",
      "\n",
      "10.  Nostalgia's hitting hard; memories flooding in, bittersweet.\n",
      "----> Prediction:  sadness \n",
      "\n",
      "Accuracy:  0.0 %\n"
     ]
    }
   ],
   "source": [
    "data = [\"test\",\n",
    "    \"I feel like I'm floating on air, so happy and excited!\",\n",
    "    \"Everything feels brighter; I can't stop smiling.\",\n",
    "    \"Lost in thoughts, feeling grateful for the smallest things.\",\n",
    "    \"I can't make sense of anything; it's all a jumble in my head.\",\n",
    "    \"It's like a heavy weight on my chest; can't hold back the tears.\",\n",
    "    \"Something's bothering me, but I can't quite put my finger on it.\",\n",
    "    \"Finally, a moment of peace; the world seems quieter now.\",\n",
    "    \"Unexpected kindness; my heart feels lighter, like a burden lifted.\",\n",
    "    \"The tension's gone; relief floods over me, like a deep breath.\",\n",
    "    \"Nostalgia's hitting hard; memories flooding in, bittersweet.\"\n",
    "]\n",
    "\n",
    "\n",
    "real_world_testing(data)"
   ]
  },
  {
   "cell_type": "code",
   "execution_count": null,
   "metadata": {},
   "outputs": [],
   "source": []
  }
 ],
 "metadata": {
  "kernelspec": {
   "display_name": "Python 3",
   "language": "python",
   "name": "python3"
  },
  "language_info": {
   "codemirror_mode": {
    "name": "ipython",
    "version": 3
   },
   "file_extension": ".py",
   "mimetype": "text/x-python",
   "name": "python",
   "nbconvert_exporter": "python",
   "pygments_lexer": "ipython3",
   "version": "3.11.2"
  },
  "orig_nbformat": 4,
  "vscode": {
   "interpreter": {
    "hash": "ebfc0a8d552866b0d59eba665220a57de3bc06f3ac643b8bef38dd8f66781fdd"
   }
  }
 },
 "nbformat": 4,
 "nbformat_minor": 2
}
