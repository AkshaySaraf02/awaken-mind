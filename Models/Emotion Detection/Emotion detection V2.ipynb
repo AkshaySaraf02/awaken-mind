{
 "cells": [
  {
   "cell_type": "code",
   "execution_count": 602,
   "metadata": {},
   "outputs": [],
   "source": [
    "import pandas as pd\n",
    "import numpy as np\n",
    "\n",
    "import matplotlib.pyplot as plt\n",
    "import seaborn as sns\n",
    "\n",
    "from sklearn.model_selection import train_test_split, GridSearchCV\n",
    "from sklearn.metrics import classification_report\n",
    "from sklearn.feature_extraction.text import CountVectorizer, TfidfTransformer\n",
    "from sklearn.naive_bayes import MultinomialNB\n",
    "\n",
    "from nltk.stem import WordNetLemmatizer\n",
    "from nltk.corpus import stopwords\n",
    "from nltk.tokenize import word_tokenize\n",
    "\n",
    "import pickle"
   ]
  },
  {
   "cell_type": "code",
   "execution_count": 603,
   "metadata": {},
   "outputs": [],
   "source": [
    "df1 = pd.read_csv(\"data/go_emotion_1.csv\")\n",
    "df2 = pd.read_csv(\"data/go_emotion_2.csv\")\n",
    "\n",
    "emotions = pd.read_csv(\"data/emotion_mappings.csv\")\n",
    "\n",
    "df = pd.concat([df1, df2], axis=0, ignore_index=True)\n",
    "\n",
    "df = df[df['emotion_id'].str.contains(\",\") != True][[\"text\", \"emotion_id\"]]\n",
    "df[\"emotion_id\"] =  df['emotion_id'].astype(\"int\")\n"
   ]
  },
  {
   "cell_type": "code",
   "execution_count": 604,
   "metadata": {},
   "outputs": [
    {
     "data": {
      "text/html": [
       "<div>\n",
       "<style scoped>\n",
       "    .dataframe tbody tr th:only-of-type {\n",
       "        vertical-align: middle;\n",
       "    }\n",
       "\n",
       "    .dataframe tbody tr th {\n",
       "        vertical-align: top;\n",
       "    }\n",
       "\n",
       "    .dataframe thead th {\n",
       "        text-align: right;\n",
       "    }\n",
       "</style>\n",
       "<table border=\"1\" class=\"dataframe\">\n",
       "  <thead>\n",
       "    <tr style=\"text-align: right;\">\n",
       "      <th></th>\n",
       "      <th>text</th>\n",
       "      <th>emotions</th>\n",
       "    </tr>\n",
       "  </thead>\n",
       "  <tbody>\n",
       "    <tr>\n",
       "      <th>0</th>\n",
       "      <td>My favourite food is anything I didn't have to...</td>\n",
       "      <td>neutral</td>\n",
       "    </tr>\n",
       "    <tr>\n",
       "      <th>1</th>\n",
       "      <td>Now if he does off himself, everyone will thin...</td>\n",
       "      <td>neutral</td>\n",
       "    </tr>\n",
       "    <tr>\n",
       "      <th>2</th>\n",
       "      <td>WHY THE FUCK IS BAYLESS ISOING</td>\n",
       "      <td>anger</td>\n",
       "    </tr>\n",
       "    <tr>\n",
       "      <th>3</th>\n",
       "      <td>To make her feel threatened</td>\n",
       "      <td>fear</td>\n",
       "    </tr>\n",
       "    <tr>\n",
       "      <th>4</th>\n",
       "      <td>Dirty Southern Wankers</td>\n",
       "      <td>annoyance</td>\n",
       "    </tr>\n",
       "    <tr>\n",
       "      <th>...</th>\n",
       "      <td>...</td>\n",
       "      <td>...</td>\n",
       "    </tr>\n",
       "    <tr>\n",
       "      <th>68289</th>\n",
       "      <td>i begun to feel distressed for you</td>\n",
       "      <td>fear</td>\n",
       "    </tr>\n",
       "    <tr>\n",
       "      <th>68290</th>\n",
       "      <td>i left feeling annoyed and angry thinking that...</td>\n",
       "      <td>anger</td>\n",
       "    </tr>\n",
       "    <tr>\n",
       "      <th>68291</th>\n",
       "      <td>i were to ever get married i d have everything...</td>\n",
       "      <td>joy</td>\n",
       "    </tr>\n",
       "    <tr>\n",
       "      <th>68292</th>\n",
       "      <td>i feel reluctant in applying there because i w...</td>\n",
       "      <td>fear</td>\n",
       "    </tr>\n",
       "    <tr>\n",
       "      <th>68293</th>\n",
       "      <td>i just wanted to apologize to you because i fe...</td>\n",
       "      <td>anger</td>\n",
       "    </tr>\n",
       "  </tbody>\n",
       "</table>\n",
       "<p>68294 rows × 2 columns</p>\n",
       "</div>"
      ],
      "text/plain": [
       "                                                    text   emotions\n",
       "0      My favourite food is anything I didn't have to...    neutral\n",
       "1      Now if he does off himself, everyone will thin...    neutral\n",
       "2                         WHY THE FUCK IS BAYLESS ISOING      anger\n",
       "3                            To make her feel threatened       fear\n",
       "4                                 Dirty Southern Wankers  annoyance\n",
       "...                                                  ...        ...\n",
       "68289                 i begun to feel distressed for you       fear\n",
       "68290  i left feeling annoyed and angry thinking that...      anger\n",
       "68291  i were to ever get married i d have everything...        joy\n",
       "68292  i feel reluctant in applying there because i w...       fear\n",
       "68293  i just wanted to apologize to you because i fe...      anger\n",
       "\n",
       "[68294 rows x 2 columns]"
      ]
     },
     "execution_count": 604,
     "metadata": {},
     "output_type": "execute_result"
    }
   ],
   "source": [
    "# Mapping the emotions to their ids\n",
    "\n",
    "df = pd.merge(df, emotions, how=\"left\", left_on=\"emotion_id\", right_on=\"id\").drop([\"emotion_id\", \"id\"], axis=1)\n",
    "\n",
    "extra_data = pd.read_csv(\"data/extra_data.csv\").rename(columns={\"Text\":\"text\", \"Emotion\": \"emotions\"})\n",
    "df = pd.concat([df, extra_data], axis=0, ignore_index=True)\n",
    "\n",
    "df"
   ]
  },
  {
   "cell_type": "code",
   "execution_count": 605,
   "metadata": {},
   "outputs": [
    {
     "name": "stdout",
     "output_type": "stream",
     "text": [
      "Min:  1\n",
      "Average:  15.223\n",
      "Max:  66\n"
     ]
    },
    {
     "data": {
      "image/png": "[encoded data removed]",
      "text/plain": [
       "<Figure size 500x200 with 1 Axes>"
      ]
     },
     "metadata": {},
     "output_type": "display_data"
    }
   ],
   "source": [
    "def text_length_distribution(df):\n",
    "    sentence_length = []\n",
    "\n",
    "    for text in df[df.columns[0]]:\n",
    "        sentence_length.append(len(text.split()))\n",
    "    \n",
    "    print(\"Min: \", min(sentence_length))\n",
    "    print(\"Average: \", round(sum(sentence_length) / len(sentence_length), 3))\n",
    "    print(\"Max: \", max(sentence_length))\n",
    "    \n",
    "    plt.figure(figsize=(5, 2))\n",
    "    sns.histplot(sentence_length, bins=30)\n",
    "\n",
    "text_length_distribution(df)"
   ]
  },
  {
   "cell_type": "code",
   "execution_count": 606,
   "metadata": {},
   "outputs": [
    {
     "data": {
      "text/plain": [
       "emotions\n",
       "neutral           14429\n",
       "sadness            7184\n",
       "happy              7029\n",
       "anger              6149\n",
       "fear               5084\n",
       "love               3228\n",
       "admiration         3058\n",
       "joy                2946\n",
       "gratitude          2117\n",
       "approval           2109\n",
       "amusement          1838\n",
       "surprise           1686\n",
       "annoyance          1645\n",
       "disapproval        1597\n",
       "curiosity          1565\n",
       "optimism            968\n",
       "confusion           955\n",
       "disappointment      797\n",
       "caring              735\n",
       "realization         675\n",
       "disgust             574\n",
       "excitement          567\n",
       "desire              445\n",
       "remorse             397\n",
       "embarrassment       226\n",
       "nervousness          97\n",
       "relief               95\n",
       "pride                58\n",
       "grief                41\n",
       "Name: count, dtype: int64"
      ]
     },
     "execution_count": 606,
     "metadata": {},
     "output_type": "execute_result"
    }
   ],
   "source": [
    "df[\"emotions\"].value_counts()"
   ]
  },
  {
   "cell_type": "code",
   "execution_count": 607,
   "metadata": {},
   "outputs": [
    {
     "data": {
      "text/plain": [
       "array(['annoyance', 'anger', 'sadness', 'fear', 'happy'], dtype=object)"
      ]
     },
     "execution_count": 607,
     "metadata": {},
     "output_type": "execute_result"
    }
   ],
   "source": [
    "# Filtering the data which will not be usefull in the production scenario.\n",
    "\n",
    "\n",
    "df[\"outlier\"] = df[\"text\"].apply(lambda x: False if len(x.split()) > 10 else True)\n",
    "df = df[df[\"outlier\"] == False].drop(\"outlier\", axis=1)\n",
    "\n",
    "required_data = ['anger','fear','sadness','happy', \"annoyance\"]\n",
    "no_usecase_emotions = list(set(df[\"emotions\"].unique()).difference(required_data))\n",
    "\n",
    "for emotion in no_usecase_emotions:\n",
    "    df = df[df[\"emotions\"] != emotion]\n",
    "\n",
    "\n",
    "df[\"emotions\"].unique()"
   ]
  },
  {
   "cell_type": "code",
   "execution_count": 608,
   "metadata": {},
   "outputs": [],
   "source": [
    "# anger = df[df[\"emotions\"] == \"anger\"].sample(5000, replace=True)\n",
    "# fear = df[df[\"emotions\"] == \"fear\"].sample(5000, replace=True)\n",
    "# sadness = df[df[\"emotions\"] == \"sadness\"].sample(955, replace=True)\n",
    "# happy = df[df[\"emotions\"] == \"happy\"].sample(955, replace=True)\n",
    "# annoyance = df[df[\"emotions\"] == \"annoyance\"].sample(955, replace=True)\n",
    "\n",
    "\n",
    "# df = pd.concat([anger, fear, sadness, happy], axis=0, ignore_index=True)\n",
    "\n",
    "\n",
    "\n",
    "# df = df[df[\"emotions\"] != \"anger\"]\n",
    "# df = pd.concat([df, anger], axis=0, ignore_index=True)"
   ]
  },
  {
   "cell_type": "code",
   "execution_count": 609,
   "metadata": {},
   "outputs": [],
   "source": [
    "stopWords = set(stopwords.words(\"english\"))\n",
    "lemmatizer = WordNetLemmatizer()\n",
    "\n",
    "def nlpTextProcessor(sentence):\n",
    "    tokenizedSent = word_tokenize(sentence)\n",
    "    removedStopwords = [word for word in tokenizedSent if word not in stopWords]\n",
    "    finalOutput = []\n",
    "    tempOutput = []\n",
    "    for word in removedStopwords:\n",
    "        if word not in set(\"``{['?/]}().,:-@\") and word not in [\"''\"]:\n",
    "            tempOutput.append(lemmatizer.lemmatize(word))\n",
    "    finalOutput = \" \".join(tempOutput)\n",
    "    return finalOutput.lower()\n",
    "\n",
    "\n",
    "df[\"text\"] = df[\"text\"].apply(nlpTextProcessor)"
   ]
  },
  {
   "cell_type": "code",
   "execution_count": 610,
   "metadata": {},
   "outputs": [],
   "source": [
    "X = df[\"text\"]\n",
    "y = df[\"emotions\"]\n",
    "\n",
    "X_train, X_test, y_train, y_test = train_test_split(X, y, test_size=0.25, stratify=y)\n",
    "count_vector = CountVectorizer(ngram_range=(1, 4))\n",
    "\n",
    "X_train = count_vector.fit_transform(X_train)\n",
    "X_test = count_vector.transform(X_test)"
   ]
  },
  {
   "cell_type": "code",
   "execution_count": 611,
   "metadata": {},
   "outputs": [
    {
     "data": {
      "text/plain": [
       "19597"
      ]
     },
     "execution_count": 611,
     "metadata": {},
     "output_type": "execute_result"
    }
   ],
   "source": [
    "len(df)"
   ]
  },
  {
   "cell_type": "code",
   "execution_count": 612,
   "metadata": {},
   "outputs": [
    {
     "name": "stdout",
     "output_type": "stream",
     "text": [
      "              precision    recall  f1-score   support\n",
      "\n",
      "       anger       0.81      0.86      0.83      1065\n",
      "   annoyance       0.47      0.06      0.10       266\n",
      "        fear       0.96      0.84      0.90       928\n",
      "       happy       0.86      0.95      0.90      1367\n",
      "     sadness       0.79      0.87      0.83      1274\n",
      "\n",
      "    accuracy                           0.84      4900\n",
      "   macro avg       0.78      0.71      0.71      4900\n",
      "weighted avg       0.83      0.84      0.82      4900\n",
      "\n"
     ]
    }
   ],
   "source": [
    "model = MultinomialNB(alpha=1, fit_prior=False)\n",
    "model.fit(X_train, y_train)\n",
    "\n",
    "nb_predictions = model.predict(X_test)\n",
    "print(classification_report(y_test, nb_predictions, zero_division=False))"
   ]
  },
  {
   "cell_type": "code",
   "execution_count": 613,
   "metadata": {},
   "outputs": [],
   "source": [
    "def real_world_testing(texts):\n",
    "    vectorized_texts = count_vector.transform(texts[1:])\n",
    "    correct_predications = 0\n",
    "    print(\"\\n\\n\")\n",
    "    for i, text in enumerate(vectorized_texts):\n",
    "        print(str(i+1)+\". \",texts[i+1])\n",
    "        predictions = model.predict(text)\n",
    "        print(\"----> Prediction: \", predictions[0], \"\\n\")\n",
    "        \n",
    "        if str(predictions[0]) == texts[0]:\n",
    "            correct_predications += 1\n",
    "\n",
    "    print(\"Accuracy: \", round((correct_predications/(len(texts)-1)) * 100,0), \"%\")"
   ]
  },
  {
   "cell_type": "code",
   "execution_count": 617,
   "metadata": {},
   "outputs": [
    {
     "name": "stdout",
     "output_type": "stream",
     "text": [
      "\n",
      "\n",
      "\n",
      "1.  At times, I'm overwhelmed by an intense fear that grips me, rendering me frozen and unable to confront situations that seem even remotely threatening.\n",
      "----> Prediction:  anger \n",
      "\n",
      "2.  This fear feels like an invisible barrier, constantly looming and preventing me from embracing experiences that others might find simple or mundane.\n",
      "----> Prediction:  sadness \n",
      "\n",
      "3.  It's as if I'm navigating through a labyrinth of fears, each turn presenting a new set of anxieties that paralyze any attempt to move forward.\n",
      "----> Prediction:  sadness \n",
      "\n",
      "4.  This sense of fearfulness seems to echo within, manifesting in a knot of tension that tightens with each perceived threat or worrisome thought.\n",
      "----> Prediction:  anger \n",
      "\n",
      "5.  My fears tend to magnify, transforming ordinary situations into looming catastrophes, making it challenging to see beyond the immediate distress.\n",
      "----> Prediction:  anger \n",
      "\n",
      "6.  There's a constant feeling of vulnerability, like standing on a precipice, expecting the ground to crumble beneath my feet at any given moment.\n",
      "----> Prediction:  sadness \n",
      "\n",
      "7.  It's a struggle to rationalize these fears; they often seem illogical, yet their hold over my mind and body feels relentless and all-encompassing.\n",
      "----> Prediction:  sadness \n",
      "\n",
      "8.  I wish I could break free from this cycle of fear, to face challenges without this overwhelming sense of dread that shadows every step I take.\n",
      "----> Prediction:  sadness \n",
      "\n",
      "9.  Finding the courage to confront these fears feels like an uphill battle, each attempt met with an avalanche of apprehension and uncertainty.\n",
      "----> Prediction:  anger \n",
      "\n",
      "10.  These fears make it hard to embrace life fully, leaving me feeling stifled and held back by an invisible force that refuses to loosen its grip.\n",
      "----> Prediction:  anger \n",
      "\n",
      "Accuracy:  0.0 %\n"
     ]
    }
   ],
   "source": [
    "data = [\n",
    "    \"fear\",\n",
    "    \"At times, I'm overwhelmed by an intense fear that grips me, rendering me frozen and unable to confront situations that seem even remotely threatening.\",\n",
    "    \"This fear feels like an invisible barrier, constantly looming and preventing me from embracing experiences that others might find simple or mundane.\",\n",
    "    \"It's as if I'm navigating through a labyrinth of fears, each turn presenting a new set of anxieties that paralyze any attempt to move forward.\",\n",
    "    \"This sense of fearfulness seems to echo within, manifesting in a knot of tension that tightens with each perceived threat or worrisome thought.\",\n",
    "    \"My fears tend to magnify, transforming ordinary situations into looming catastrophes, making it challenging to see beyond the immediate distress.\",\n",
    "    \"There's a constant feeling of vulnerability, like standing on a precipice, expecting the ground to crumble beneath my feet at any given moment.\",\n",
    "    \"It's a struggle to rationalize these fears; they often seem illogical, yet their hold over my mind and body feels relentless and all-encompassing.\",\n",
    "    \"I wish I could break free from this cycle of fear, to face challenges without this overwhelming sense of dread that shadows every step I take.\",\n",
    "    \"Finding the courage to confront these fears feels like an uphill battle, each attempt met with an avalanche of apprehension and uncertainty.\",\n",
    "    \"These fears make it hard to embrace life fully, leaving me feeling stifled and held back by an invisible force that refuses to loosen its grip.\"\n",
    "]\n",
    "\n",
    "\n",
    "\n",
    "\n",
    "\n",
    "real_world_testing(data)"
   ]
  },
  {
   "cell_type": "code",
   "execution_count": 615,
   "metadata": {},
   "outputs": [],
   "source": [
    "# Saving the model.\n",
    "# pickle.dump(model , open('emotion_detection-model.pk1' , 'wb'))"
   ]
  },
  {
   "cell_type": "code",
   "execution_count": null,
   "metadata": {},
   "outputs": [],
   "source": []
  }
 ],
 "metadata": {
  "kernelspec": {
   "display_name": "Python 3",
   "language": "python",
   "name": "python3"
  },
  "language_info": {
   "codemirror_mode": {
    "name": "ipython",
    "version": 3
   },
   "file_extension": ".py",
   "mimetype": "text/x-python",
   "name": "python",
   "nbconvert_exporter": "python",
   "pygments_lexer": "ipython3",
   "version": "3.10.0"
  },
  "orig_nbformat": 4,
  "vscode": {
   "interpreter": {
    "hash": "afb734500600fd355917ca529030176ea0ca205570884b88f2f6f7d791fd3fbe"
   }
  }
 },
 "nbformat": 4,
 "nbformat_minor": 2
}
